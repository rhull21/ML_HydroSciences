{
 "cells": [
  {
   "cell_type": "markdown",
   "metadata": {},
   "source": [
    "# PyTorch Simple\n",
    "This is my first attempt at running PyTorch on the UAHPC\n",
    "Modified from pytorch_gpus.py (stored in this directory)\n",
    "Updated 11/17/2020"
   ]
  },
  {
   "cell_type": "markdown",
   "metadata": {},
   "source": [
    "## Outline\n",
    "0. Workflow\n",
    "1. Links and Resources\n",
    "2. Setting up Workspace\n",
    "3. Running a PyTorch Script"
   ]
  },
  {
   "cell_type": "markdown",
   "metadata": {},
   "source": [
    "## 0. Workflow\n",
    "This documents how to run a PyTorch script using Jupyter Notebooks on UAHPC\n",
    "\n",
    "    1. Log on to a Jupyter Notebook Session from https://ood.hpc.arizona.edu\n",
    "\n",
    "    2. Choose the Number of Hours and CPUs. (Note that to use GPU you will need to run multiple CPUS (>1) and 'Connect to Jupyter'\n",
    "    \n",
    "    3. Navigate to an existing Jupyter Notebook or create a new one\n",
    "\n",
    "    4. Set up your Workspace: A note on modules, environments, and python packages\n",
    "        * Jupyter Notebooks come with some pre-baked python packages, and will automaticlly load the python 'module'\n",
    "        * However, many 'custom' Python Packages need to be installed manually\n",
    "            * For more info, see 'Setting up Workspace' section below\n",
    "        * Careful to set up virtual environments that respect\n",
    "            1. The structure of the UAHPC file directory. (For me, I access packages here: \"/home/u8/roberthull/mypyenv_gato/lib/python3.5/site-packages\")\n",
    "            2. The version of Python that you are running. (For me, python3.5) \n",
    "            3. The super computer you run on (For me, ElGato, but could also be Ocelote). It can helpful to name your virtual environments descritively so that you have one for each super comuputer\n",
    "\n",
    "    5. Run your PyTorch Script"
   ]
  },
  {
   "cell_type": "markdown",
   "metadata": {},
   "source": [
    "## 1. Links and Resources\n",
    "1. An introduction into using Python on Ocelote and El Gato\n",
    "https://public.confluence.arizona.edu/display/UAHPC/Using+and+Installing+Python\n",
    "    * Scroll to the bottom to view Jupyter-specific Python Recommendations\n",
    "2. An introduction to Jupyter Notebooks on UAHPC\n",
    "https://public.confluence.arizona.edu/display/UAHPC/Jupyter+Notebook+-+Python\n",
    "    * Generates a simple Jupyter Notebook script\n",
    "3. Description of GUI / On Demand Services available through HPC\n",
    "https://public.confluence.arizona.edu/display/UAHPC/Open+On+Demand"
   ]
  },
  {
   "source": [
    "## 2. Setting up your workspace\n",
    "### Set up your directory locations. \n",
    "You need to activate your environment (if you want to install custom packages)\n",
    "And\n",
    "You need to direct the system to look where the packages are installed"
   ],
   "cell_type": "markdown",
   "metadata": {}
  },
  {
   "cell_type": "code",
   "execution_count": null,
   "metadata": {},
   "outputs": [],
   "source": [
    "# initialize directory lcoation\n",
    "env_dir = \"~/mypyenv_gato/bin/activate\"\n",
    "sys_dir = \"/home/u8/roberthull/mypyenv_gato/lib/python3.5/site-packages\""
   ]
  },
  {
   "source": [
    "### Install custom packages\n",
    "Only do this once. I.E. if the packages already exist, then don't install them! "
   ],
   "cell_type": "markdown",
   "metadata": {}
  },
  {
   "cell_type": "code",
   "execution_count": null,
   "metadata": {},
   "outputs": [],
   "source": [
    "# %% install custom package (each call must be done on one line)\n",
    "# # syntax\n",
    "# # !source </path/to/virtualenv>/bin/activate && pip install <package> && pip show <package>\n",
    "\n",
    "# # pycurl\n",
    "# !source ~/mypyenv_gato/bin/activate && pip install pycurl && pip show pycurl\n",
    "\n",
    "# # pytorch\n",
    "# !source ~/mypyenv_gato/bin/activate && pip install torch && pip show torch"
   ]
  },
  {
   "source": [
    "### Check to see if a packages has already been installed\n",
    "See previous"
   ],
   "cell_type": "markdown",
   "metadata": {}
  },
  {
   "cell_type": "code",
   "execution_count": null,
   "metadata": {},
   "outputs": [],
   "source": [
    "# pip show <module name>\n",
    "# ex\n",
    "pip show torch"
   ]
  },
  {
   "source": [
    "### Ensure that the system knows to look for packages in your environment\n",
    "You need to append the system directory (established as the path to your virtual environment) so that it can be used in the module import section"
   ],
   "cell_type": "markdown",
   "metadata": {}
  },
  {
   "cell_type": "code",
   "execution_count": null,
   "metadata": {},
   "outputs": [],
   "source": [
    "# Check system Paths\n",
    "import sys\n",
    "# add environment directory\n",
    "sys.path.append(sys_dir)\n",
    "sys.path"
   ]
  },
  {
   "source": [
    "### Import Modules\n",
    "'nuff said. Make sure that they've already been installed if they are custom and don't come by default with Jupyter"
   ],
   "cell_type": "markdown",
   "metadata": {}
  },
  {
   "cell_type": "code",
   "execution_count": null,
   "metadata": {},
   "outputs": [],
   "source": [
    "# %% Modules\n",
    "# Import torch and numpy\n",
    "import numpy as np\n",
    "import pycurl\n",
    "import torch as th\n",
    "import time"
   ]
  },
  {
   "source": [
    "## 3. Run Python Script\n",
    "The below script looks to see if gpu is available (from the pytorch consule). Note that it will only show as available if more than one CPU is being used in your session"
   ],
   "cell_type": "markdown",
   "metadata": {}
  },
  {
   "cell_type": "code",
   "execution_count": null,
   "metadata": {},
   "outputs": [],
   "source": [
    "# %% First attempt (using th.cuda.is_available and .to())\n",
    "\n",
    "if th.cuda.is_available():\n",
    "  # Create tensors\n",
    "  x = th.ones(1000, 1000)\n",
    "  y = 2 * x + 3\n",
    "  # Do the calculation on cpu (default)\n",
    "  start_time = time.time()\n",
    "  # Matrix multiplication (for benchmark purpose)\n",
    "  results = th.mm(x, y)\n",
    "  time_cpu = time.time() - start_time\n",
    "  \n",
    "  # Do the same calculation but on the gpu\n",
    "  # First move tensors to gpu\n",
    "  x = x.to(\"cuda\")\n",
    "  y = y.to(\"cuda\")\n",
    "  start_time = time.time()\n",
    "  # Matrix multiplication (for benchmark purpose)\n",
    "  results = th.mm(x, y)\n",
    "  time_gpu = time.time() - start_time\n",
    "  \n",
    "  print(\"Time on CPU: {:.5f}s \\t Time on GPU: {:.5f}s\".format(time_cpu, time_gpu))\n",
    "  print(\"Speed up: Computation was {:.0f}X faster on GPU!\".format(time_cpu / time_gpu))\n",
    "  \n",
    "else:\n",
    "  print(\"You need to enable GPU accelaration\")"
   ]
  },
  {
   "source": [],
   "cell_type": "code",
   "metadata": {},
   "execution_count": null,
   "outputs": []
  }
 ],
 "metadata": {
  "kernelspec": {
   "display_name": "Python 3",
   "language": "python",
   "name": "python3"
  },
  "language_info": {
   "codemirror_mode": {
    "name": "ipython",
    "version": 3
   },
   "file_extension": ".py",
   "mimetype": "text/x-python",
   "name": "python",
   "nbconvert_exporter": "python",
   "pygments_lexer": "ipython3",
   "version": "3.8.2-final"
  }
 },
 "nbformat": 4,
 "nbformat_minor": 2
}